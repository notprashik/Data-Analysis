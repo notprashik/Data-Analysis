{
 "cells": [
  {
   "cell_type": "markdown",
   "id": "6ac80626",
   "metadata": {},
   "source": [
    "# Mini Project -> Data Analysis on COVID-19 India Database"
   ]
  },
  {
   "cell_type": "code",
   "execution_count": 1,
   "id": "1a75ed87",
   "metadata": {},
   "outputs": [],
   "source": [
    "#adding necessory libraries\n",
    "import numpy as np\n",
    "import pandas as pd\n",
    "from matplotlib import pyplot\n",
    "from matplotlib.dates import DateFormatter\n",
    "import matplotlib.pyplot as plt\n",
    "import seaborn as sns\n",
    "import requests"
   ]
  },
  {
   "cell_type": "markdown",
   "id": "7d56a657",
   "metadata": {},
   "source": [
    "# Gathered the dataset from https://api.covid19india.org/ "
   ]
  },
  {
   "cell_type": "code",
   "execution_count": 2,
   "id": "60a1e85b",
   "metadata": {},
   "outputs": [],
   "source": [
    "# Getting the live data from api\n",
    "df1  = pd.read_csv('https://api.covid19india.org/csv/latest/raw_data1.csv')\n",
    "df2  = pd.read_csv('https://api.covid19india.org/csv/latest/raw_data2.csv')\n",
    "df3  = pd.read_csv('https://api.covid19india.org/csv/latest/raw_data3.csv')\n",
    "df4  = pd.read_csv('https://api.covid19india.org/csv/latest/raw_data4.csv')\n",
    "df5  = pd.read_csv('https://api.covid19india.org/csv/latest/raw_data5.csv')\n",
    "df6  = pd.read_csv('https://api.covid19india.org/csv/latest/raw_data6.csv')\n",
    "df7  = pd.read_csv('https://api.covid19india.org/csv/latest/raw_data7.csv')\n",
    "df8  = pd.read_csv('https://api.covid19india.org/csv/latest/raw_data8.csv')\n",
    "df9  = pd.read_csv('https://api.covid19india.org/csv/latest/raw_data9.csv')\n",
    "df10 = pd.read_csv('https://api.covid19india.org/csv/latest/raw_data10.csv')\n",
    "df11 = pd.read_csv('https://api.covid19india.org/csv/latest/raw_data11.csv')\n",
    "df12 = pd.read_csv('https://api.covid19india.org/csv/latest/raw_data12.csv')\n",
    "df13 = pd.read_csv('https://api.covid19india.org/csv/latest/raw_data13.csv')\n",
    "df14 = pd.read_csv('https://api.covid19india.org/csv/latest/raw_data14.csv')\n",
    "df15 = pd.read_csv('https://api.covid19india.org/csv/latest/raw_data15.csv')\n",
    "df16 = pd.read_csv('https://api.covid19india.org/csv/latest/raw_data16.csv')\n",
    "df17 = pd.read_csv('https://api.covid19india.org/csv/latest/raw_data17.csv')\n",
    "df18 = pd.read_csv('https://api.covid19india.org/csv/latest/raw_data18.csv')\n",
    "df19 = pd.read_csv('https://api.covid19india.org/csv/latest/raw_data19.csv')\n",
    "df20 = pd.read_csv('https://api.covid19india.org/csv/latest/raw_data20.csv')\n",
    "df21 = pd.read_csv('https://api.covid19india.org/csv/latest/raw_data21.csv')\n",
    "df22 = pd.read_csv('https://api.covid19india.org/csv/latest/raw_data22.csv')\n",
    "df23 = pd.read_csv('https://api.covid19india.org/csv/latest/raw_data23.csv')\n",
    "df24 = pd.read_csv('https://api.covid19india.org/csv/latest/raw_data24.csv')\n",
    "df25 = pd.read_csv('https://api.covid19india.org/csv/latest/raw_data25.csv')\n",
    "df26 = pd.read_csv('https://api.covid19india.org/csv/latest/raw_data26.csv')\n",
    "df27 = pd.read_csv('https://api.covid19india.org/csv/latest/raw_data27.csv')\n",
    "df28 = pd.read_csv('https://api.covid19india.org/csv/latest/raw_data28.csv')\n",
    "df29 = pd.read_csv('https://api.covid19india.org/csv/latest/raw_data29.csv')\n",
    "df30 = pd.read_csv('https://api.covid19india.org/csv/latest/raw_data30.csv')\n",
    "df31 = pd.read_csv('https://api.covid19india.org/csv/latest/raw_data31.csv')\n",
    "df32 = pd.read_csv('https://api.covid19india.org/csv/latest/raw_data32.csv')"
   ]
  },
  {
   "cell_type": "code",
   "execution_count": 3,
   "id": "596545bb",
   "metadata": {},
   "outputs": [],
   "source": [
    "#to get real time data, updating latest file\n",
    "df32 = pd.read_csv('https://api.covid19india.org/csv/latest/raw_data32.csv')\n",
    "df32 = df32.loc[:,['Num Cases','Date Announced', 'Age Bracket', 'Gender','Detected District', 'Detected State', 'Current Status',]]"
   ]
  },
  {
   "cell_type": "code",
   "execution_count": 4,
   "id": "ae14ddd8",
   "metadata": {
    "scrolled": true
   },
   "outputs": [
    {
     "data": {
      "text/plain": [
       "Index(['Patient Number', 'State Patient Number', 'Date Announced',\n",
       "       'Estimated Onset Date', 'Age Bracket', 'Gender', 'Detected City',\n",
       "       'Detected District', 'Detected State', 'State code', 'Current Status',\n",
       "       'Notes', 'Contracted from which Patient (Suspected)', 'Nationality',\n",
       "       'Type of transmission', 'Status Change Date', 'Source_1', 'Source_2',\n",
       "       'Source_3', 'Backup Notes', 'Num Cases'],\n",
       "      dtype='object')"
      ]
     },
     "execution_count": 4,
     "metadata": {},
     "output_type": "execute_result"
    }
   ],
   "source": [
    "#compairing columns\n",
    "df1.columns"
   ]
  },
  {
   "cell_type": "code",
   "execution_count": 5,
   "id": "97aa86c0",
   "metadata": {},
   "outputs": [
    {
     "data": {
      "text/plain": [
       "Index(['Num Cases', 'Date Announced', 'Age Bracket', 'Gender',\n",
       "       'Detected District', 'Detected State', 'Current Status'],\n",
       "      dtype='object')"
      ]
     },
     "execution_count": 5,
     "metadata": {},
     "output_type": "execute_result"
    }
   ],
   "source": [
    "df32.columns"
   ]
  },
  {
   "cell_type": "markdown",
   "id": "6fe72b54",
   "metadata": {},
   "source": [
    "# Extracted only required columns from the dataset"
   ]
  },
  {
   "cell_type": "code",
   "execution_count": 6,
   "id": "1a8ce780",
   "metadata": {},
   "outputs": [],
   "source": [
    "df1  = df1.loc[:,['Num Cases','Date Announced', 'Age Bracket', 'Gender','Detected District', 'Detected State', 'Current Status',]]\n",
    "df2  = df2.loc[:,['Num Cases','Date Announced', 'Age Bracket', 'Gender','Detected District', 'Detected State', 'Current Status',]]\n",
    "df3  = df3.loc[:,['Num Cases','Date Announced', 'Age Bracket', 'Gender','Detected District', 'Detected State', 'Current Status',]]\n",
    "df4  = df4.loc[:,['Num Cases','Date Announced', 'Age Bracket', 'Gender','Detected District', 'Detected State', 'Current Status',]]\n",
    "df5  = df5.loc[:,['Num Cases','Date Announced', 'Age Bracket', 'Gender','Detected District', 'Detected State', 'Current Status',]]\n",
    "df6  = df6.loc[:,['Num Cases','Date Announced', 'Age Bracket', 'Gender','Detected District', 'Detected State', 'Current Status',]]\n",
    "df7  = df7.loc[:,['Num Cases','Date Announced', 'Age Bracket', 'Gender','Detected District', 'Detected State', 'Current Status',]]\n",
    "df8  = df8.loc[:,['Num Cases','Date Announced', 'Age Bracket', 'Gender','Detected District', 'Detected State', 'Current Status',]]\n",
    "df9  = df9.loc[:,['Num Cases','Date Announced', 'Age Bracket', 'Gender','Detected District', 'Detected State', 'Current Status',]]\n",
    "df10 = df10.loc[:,['Num Cases','Date Announced', 'Age Bracket', 'Gender','Detected District', 'Detected State', 'Current Status',]]\n",
    "df11 = df11.loc[:,['Num Cases','Date Announced', 'Age Bracket', 'Gender','Detected District', 'Detected State', 'Current Status',]]\n",
    "df12 = df12.loc[:,['Num Cases','Date Announced', 'Age Bracket', 'Gender','Detected District', 'Detected State', 'Current Status',]]\n",
    "df13 = df13.loc[:,['Num Cases','Date Announced', 'Age Bracket', 'Gender','Detected District', 'Detected State', 'Current Status',]]\n",
    "df14 = df14.loc[:,['Num Cases','Date Announced', 'Age Bracket', 'Gender','Detected District', 'Detected State', 'Current Status',]]\n",
    "df15 = df15.loc[:,['Num Cases','Date Announced', 'Age Bracket', 'Gender','Detected District', 'Detected State', 'Current Status',]]\n",
    "df16 = df16.loc[:,['Num Cases','Date Announced', 'Age Bracket', 'Gender','Detected District', 'Detected State', 'Current Status',]]\n",
    "df17 = df17.loc[:,['Num Cases','Date Announced', 'Age Bracket', 'Gender','Detected District', 'Detected State', 'Current Status',]]\n",
    "df18 = df18.loc[:,['Num Cases','Date Announced', 'Age Bracket', 'Gender','Detected District', 'Detected State', 'Current Status',]]\n",
    "df19 = df19.loc[:,['Num Cases','Date Announced', 'Age Bracket', 'Gender','Detected District', 'Detected State', 'Current Status',]]\n",
    "df20 = df20.loc[:,['Num Cases','Date Announced', 'Age Bracket', 'Gender','Detected District', 'Detected State', 'Current Status',]]\n",
    "df21 = df21.loc[:,['Num Cases','Date Announced', 'Age Bracket', 'Gender','Detected District', 'Detected State', 'Current Status',]]\n",
    "df22 = df22.loc[:,['Num Cases','Date Announced', 'Age Bracket', 'Gender','Detected District', 'Detected State', 'Current Status',]]\n",
    "df23 = df23.loc[:,['Num Cases','Date Announced', 'Age Bracket', 'Gender','Detected District', 'Detected State', 'Current Status',]]\n",
    "df24 = df24.loc[:,['Num Cases','Date Announced', 'Age Bracket', 'Gender','Detected District', 'Detected State', 'Current Status',]]\n",
    "df25 = df25.loc[:,['Num Cases','Date Announced', 'Age Bracket', 'Gender','Detected District', 'Detected State', 'Current Status',]]\n",
    "df26 = df26.loc[:,['Num Cases','Date Announced', 'Age Bracket', 'Gender','Detected District', 'Detected State', 'Current Status',]]\n",
    "df27 = df27.loc[:,['Num Cases','Date Announced', 'Age Bracket', 'Gender','Detected District', 'Detected State', 'Current Status',]]\n",
    "df28 = df28.loc[:,['Num Cases','Date Announced', 'Age Bracket', 'Gender','Detected District', 'Detected State', 'Current Status',]]\n",
    "df29 = df29.loc[:,['Num Cases','Date Announced', 'Age Bracket', 'Gender','Detected District', 'Detected State', 'Current Status',]]\n",
    "df30 = df30.loc[:,['Num Cases','Date Announced', 'Age Bracket', 'Gender','Detected District', 'Detected State', 'Current Status',]]\n",
    "df31 = df31.loc[:,['Num Cases','Date Announced', 'Age Bracket', 'Gender','Detected District', 'Detected State', 'Current Status',]]\n",
    "df32 = df32.loc[:,['Num Cases','Date Announced', 'Age Bracket', 'Gender','Detected District', 'Detected State', 'Current Status',]]"
   ]
  },
  {
   "cell_type": "code",
   "execution_count": 7,
   "id": "ea0bc880",
   "metadata": {},
   "outputs": [
    {
     "data": {
      "text/html": [
       "<div>\n",
       "<style scoped>\n",
       "    .dataframe tbody tr th:only-of-type {\n",
       "        vertical-align: middle;\n",
       "    }\n",
       "\n",
       "    .dataframe tbody tr th {\n",
       "        vertical-align: top;\n",
       "    }\n",
       "\n",
       "    .dataframe thead th {\n",
       "        text-align: right;\n",
       "    }\n",
       "</style>\n",
       "<table border=\"1\" class=\"dataframe\">\n",
       "  <thead>\n",
       "    <tr style=\"text-align: right;\">\n",
       "      <th></th>\n",
       "      <th>Num Cases</th>\n",
       "      <th>Date Announced</th>\n",
       "      <th>Age Bracket</th>\n",
       "      <th>Gender</th>\n",
       "      <th>Detected District</th>\n",
       "      <th>Detected State</th>\n",
       "      <th>Current Status</th>\n",
       "    </tr>\n",
       "  </thead>\n",
       "  <tbody>\n",
       "    <tr>\n",
       "      <th>0</th>\n",
       "      <td>1.0</td>\n",
       "      <td>30/01/2020</td>\n",
       "      <td>20</td>\n",
       "      <td>F</td>\n",
       "      <td>Thrissur</td>\n",
       "      <td>Kerala</td>\n",
       "      <td>Recovered</td>\n",
       "    </tr>\n",
       "    <tr>\n",
       "      <th>1</th>\n",
       "      <td>1.0</td>\n",
       "      <td>02/02/2020</td>\n",
       "      <td>NaN</td>\n",
       "      <td>NaN</td>\n",
       "      <td>Alappuzha</td>\n",
       "      <td>Kerala</td>\n",
       "      <td>Recovered</td>\n",
       "    </tr>\n",
       "    <tr>\n",
       "      <th>2</th>\n",
       "      <td>1.0</td>\n",
       "      <td>03/02/2020</td>\n",
       "      <td>NaN</td>\n",
       "      <td>NaN</td>\n",
       "      <td>Kasaragod</td>\n",
       "      <td>Kerala</td>\n",
       "      <td>Recovered</td>\n",
       "    </tr>\n",
       "    <tr>\n",
       "      <th>3</th>\n",
       "      <td>1.0</td>\n",
       "      <td>02/03/2020</td>\n",
       "      <td>45</td>\n",
       "      <td>M</td>\n",
       "      <td>East Delhi</td>\n",
       "      <td>Delhi</td>\n",
       "      <td>Recovered</td>\n",
       "    </tr>\n",
       "    <tr>\n",
       "      <th>4</th>\n",
       "      <td>1.0</td>\n",
       "      <td>02/03/2020</td>\n",
       "      <td>24</td>\n",
       "      <td>M</td>\n",
       "      <td>Hyderabad</td>\n",
       "      <td>Telangana</td>\n",
       "      <td>Recovered</td>\n",
       "    </tr>\n",
       "    <tr>\n",
       "      <th>...</th>\n",
       "      <td>...</td>\n",
       "      <td>...</td>\n",
       "      <td>...</td>\n",
       "      <td>...</td>\n",
       "      <td>...</td>\n",
       "      <td>...</td>\n",
       "      <td>...</td>\n",
       "    </tr>\n",
       "    <tr>\n",
       "      <th>24193</th>\n",
       "      <td>1.0</td>\n",
       "      <td>17/08/2021</td>\n",
       "      <td>NaN</td>\n",
       "      <td>NaN</td>\n",
       "      <td>Kargil</td>\n",
       "      <td>Ladakh</td>\n",
       "      <td>Hospitalized</td>\n",
       "    </tr>\n",
       "    <tr>\n",
       "      <th>24194</th>\n",
       "      <td>6.0</td>\n",
       "      <td>17/08/2021</td>\n",
       "      <td>NaN</td>\n",
       "      <td>NaN</td>\n",
       "      <td>Leh</td>\n",
       "      <td>Ladakh</td>\n",
       "      <td>Recovered</td>\n",
       "    </tr>\n",
       "    <tr>\n",
       "      <th>24195</th>\n",
       "      <td>1.0</td>\n",
       "      <td>17/08/2021</td>\n",
       "      <td>NaN</td>\n",
       "      <td>NaN</td>\n",
       "      <td>Kargil</td>\n",
       "      <td>Ladakh</td>\n",
       "      <td>Recovered</td>\n",
       "    </tr>\n",
       "    <tr>\n",
       "      <th>24196</th>\n",
       "      <td>NaN</td>\n",
       "      <td>18/08/2021</td>\n",
       "      <td>NaN</td>\n",
       "      <td>NaN</td>\n",
       "      <td>NaN</td>\n",
       "      <td>NaN</td>\n",
       "      <td>NaN</td>\n",
       "    </tr>\n",
       "    <tr>\n",
       "      <th>24197</th>\n",
       "      <td>NaN</td>\n",
       "      <td>18/08/2021</td>\n",
       "      <td>NaN</td>\n",
       "      <td>NaN</td>\n",
       "      <td>NaN</td>\n",
       "      <td>NaN</td>\n",
       "      <td>NaN</td>\n",
       "    </tr>\n",
       "  </tbody>\n",
       "</table>\n",
       "<p>779240 rows × 7 columns</p>\n",
       "</div>"
      ],
      "text/plain": [
       "       Num Cases Date Announced Age Bracket Gender Detected District  \\\n",
       "0            1.0     30/01/2020          20      F          Thrissur   \n",
       "1            1.0     02/02/2020         NaN    NaN         Alappuzha   \n",
       "2            1.0     03/02/2020         NaN    NaN         Kasaragod   \n",
       "3            1.0     02/03/2020          45      M        East Delhi   \n",
       "4            1.0     02/03/2020          24      M         Hyderabad   \n",
       "...          ...            ...         ...    ...               ...   \n",
       "24193        1.0     17/08/2021         NaN    NaN            Kargil   \n",
       "24194        6.0     17/08/2021         NaN    NaN               Leh   \n",
       "24195        1.0     17/08/2021         NaN    NaN            Kargil   \n",
       "24196        NaN     18/08/2021         NaN    NaN               NaN   \n",
       "24197        NaN     18/08/2021         NaN    NaN               NaN   \n",
       "\n",
       "      Detected State Current Status  \n",
       "0             Kerala      Recovered  \n",
       "1             Kerala      Recovered  \n",
       "2             Kerala      Recovered  \n",
       "3              Delhi      Recovered  \n",
       "4          Telangana      Recovered  \n",
       "...              ...            ...  \n",
       "24193         Ladakh   Hospitalized  \n",
       "24194         Ladakh      Recovered  \n",
       "24195         Ladakh      Recovered  \n",
       "24196            NaN            NaN  \n",
       "24197            NaN            NaN  \n",
       "\n",
       "[779240 rows x 7 columns]"
      ]
     },
     "execution_count": 7,
     "metadata": {},
     "output_type": "execute_result"
    }
   ],
   "source": [
    "#appended all datafiles in on datafile\n",
    "df = df1.append([df2,df3,df4,df5,df6,df7,df8,df9,df10,df11,df12,df13,df14,df15,df16,df17,df18,df19,df20,df21,df22,df23,df24,df25,df26,df27,df28,df29,df30,df31,df32])\n",
    "df"
   ]
  },
  {
   "cell_type": "code",
   "execution_count": 8,
   "id": "68648eea",
   "metadata": {},
   "outputs": [
    {
     "data": {
      "text/html": [
       "<div>\n",
       "<style scoped>\n",
       "    .dataframe tbody tr th:only-of-type {\n",
       "        vertical-align: middle;\n",
       "    }\n",
       "\n",
       "    .dataframe tbody tr th {\n",
       "        vertical-align: top;\n",
       "    }\n",
       "\n",
       "    .dataframe thead th {\n",
       "        text-align: right;\n",
       "    }\n",
       "</style>\n",
       "<table border=\"1\" class=\"dataframe\">\n",
       "  <thead>\n",
       "    <tr style=\"text-align: right;\">\n",
       "      <th></th>\n",
       "      <th>Day</th>\n",
       "      <th>Month</th>\n",
       "      <th>Year</th>\n",
       "    </tr>\n",
       "  </thead>\n",
       "  <tbody>\n",
       "    <tr>\n",
       "      <th>0</th>\n",
       "      <td>30</td>\n",
       "      <td>01</td>\n",
       "      <td>2020</td>\n",
       "    </tr>\n",
       "    <tr>\n",
       "      <th>1</th>\n",
       "      <td>02</td>\n",
       "      <td>02</td>\n",
       "      <td>2020</td>\n",
       "    </tr>\n",
       "    <tr>\n",
       "      <th>2</th>\n",
       "      <td>03</td>\n",
       "      <td>02</td>\n",
       "      <td>2020</td>\n",
       "    </tr>\n",
       "    <tr>\n",
       "      <th>3</th>\n",
       "      <td>02</td>\n",
       "      <td>03</td>\n",
       "      <td>2020</td>\n",
       "    </tr>\n",
       "    <tr>\n",
       "      <th>4</th>\n",
       "      <td>02</td>\n",
       "      <td>03</td>\n",
       "      <td>2020</td>\n",
       "    </tr>\n",
       "    <tr>\n",
       "      <th>...</th>\n",
       "      <td>...</td>\n",
       "      <td>...</td>\n",
       "      <td>...</td>\n",
       "    </tr>\n",
       "    <tr>\n",
       "      <th>24193</th>\n",
       "      <td>17</td>\n",
       "      <td>08</td>\n",
       "      <td>2021</td>\n",
       "    </tr>\n",
       "    <tr>\n",
       "      <th>24194</th>\n",
       "      <td>17</td>\n",
       "      <td>08</td>\n",
       "      <td>2021</td>\n",
       "    </tr>\n",
       "    <tr>\n",
       "      <th>24195</th>\n",
       "      <td>17</td>\n",
       "      <td>08</td>\n",
       "      <td>2021</td>\n",
       "    </tr>\n",
       "    <tr>\n",
       "      <th>24196</th>\n",
       "      <td>18</td>\n",
       "      <td>08</td>\n",
       "      <td>2021</td>\n",
       "    </tr>\n",
       "    <tr>\n",
       "      <th>24197</th>\n",
       "      <td>18</td>\n",
       "      <td>08</td>\n",
       "      <td>2021</td>\n",
       "    </tr>\n",
       "  </tbody>\n",
       "</table>\n",
       "<p>779240 rows × 3 columns</p>\n",
       "</div>"
      ],
      "text/plain": [
       "      Day Month  Year\n",
       "0      30    01  2020\n",
       "1      02    02  2020\n",
       "2      03    02  2020\n",
       "3      02    03  2020\n",
       "4      02    03  2020\n",
       "...    ..   ...   ...\n",
       "24193  17    08  2021\n",
       "24194  17    08  2021\n",
       "24195  17    08  2021\n",
       "24196  18    08  2021\n",
       "24197  18    08  2021\n",
       "\n",
       "[779240 rows x 3 columns]"
      ]
     },
     "execution_count": 8,
     "metadata": {},
     "output_type": "execute_result"
    }
   ],
   "source": [
    "#extracting Date into Day,Month and Year wise\n",
    "Date = df['Date Announced'].str.split('/', expand=True)\n",
    "Date.columns=['Day','Month','Year']\n",
    "Date"
   ]
  },
  {
   "cell_type": "code",
   "execution_count": 9,
   "id": "8effe3a3",
   "metadata": {
    "scrolled": true
   },
   "outputs": [
    {
     "data": {
      "text/html": [
       "<div>\n",
       "<style scoped>\n",
       "    .dataframe tbody tr th:only-of-type {\n",
       "        vertical-align: middle;\n",
       "    }\n",
       "\n",
       "    .dataframe tbody tr th {\n",
       "        vertical-align: top;\n",
       "    }\n",
       "\n",
       "    .dataframe thead th {\n",
       "        text-align: right;\n",
       "    }\n",
       "</style>\n",
       "<table border=\"1\" class=\"dataframe\">\n",
       "  <thead>\n",
       "    <tr style=\"text-align: right;\">\n",
       "      <th></th>\n",
       "      <th>Num Cases</th>\n",
       "      <th>Date Announced</th>\n",
       "      <th>Age Bracket</th>\n",
       "      <th>Gender</th>\n",
       "      <th>Detected District</th>\n",
       "      <th>Detected State</th>\n",
       "      <th>Current Status</th>\n",
       "      <th>Day</th>\n",
       "      <th>Month</th>\n",
       "      <th>Year</th>\n",
       "    </tr>\n",
       "  </thead>\n",
       "  <tbody>\n",
       "    <tr>\n",
       "      <th>0</th>\n",
       "      <td>1.0</td>\n",
       "      <td>30/01/2020</td>\n",
       "      <td>20</td>\n",
       "      <td>F</td>\n",
       "      <td>Thrissur</td>\n",
       "      <td>Kerala</td>\n",
       "      <td>Recovered</td>\n",
       "      <td>30</td>\n",
       "      <td>01</td>\n",
       "      <td>2020</td>\n",
       "    </tr>\n",
       "    <tr>\n",
       "      <th>1</th>\n",
       "      <td>1.0</td>\n",
       "      <td>02/02/2020</td>\n",
       "      <td>NaN</td>\n",
       "      <td>NaN</td>\n",
       "      <td>Alappuzha</td>\n",
       "      <td>Kerala</td>\n",
       "      <td>Recovered</td>\n",
       "      <td>02</td>\n",
       "      <td>02</td>\n",
       "      <td>2020</td>\n",
       "    </tr>\n",
       "    <tr>\n",
       "      <th>2</th>\n",
       "      <td>1.0</td>\n",
       "      <td>03/02/2020</td>\n",
       "      <td>NaN</td>\n",
       "      <td>NaN</td>\n",
       "      <td>Kasaragod</td>\n",
       "      <td>Kerala</td>\n",
       "      <td>Recovered</td>\n",
       "      <td>03</td>\n",
       "      <td>02</td>\n",
       "      <td>2020</td>\n",
       "    </tr>\n",
       "    <tr>\n",
       "      <th>3</th>\n",
       "      <td>1.0</td>\n",
       "      <td>02/03/2020</td>\n",
       "      <td>45</td>\n",
       "      <td>M</td>\n",
       "      <td>East Delhi</td>\n",
       "      <td>Delhi</td>\n",
       "      <td>Recovered</td>\n",
       "      <td>02</td>\n",
       "      <td>03</td>\n",
       "      <td>2020</td>\n",
       "    </tr>\n",
       "    <tr>\n",
       "      <th>4</th>\n",
       "      <td>1.0</td>\n",
       "      <td>02/03/2020</td>\n",
       "      <td>24</td>\n",
       "      <td>M</td>\n",
       "      <td>Hyderabad</td>\n",
       "      <td>Telangana</td>\n",
       "      <td>Recovered</td>\n",
       "      <td>02</td>\n",
       "      <td>03</td>\n",
       "      <td>2020</td>\n",
       "    </tr>\n",
       "    <tr>\n",
       "      <th>...</th>\n",
       "      <td>...</td>\n",
       "      <td>...</td>\n",
       "      <td>...</td>\n",
       "      <td>...</td>\n",
       "      <td>...</td>\n",
       "      <td>...</td>\n",
       "      <td>...</td>\n",
       "      <td>...</td>\n",
       "      <td>...</td>\n",
       "      <td>...</td>\n",
       "    </tr>\n",
       "    <tr>\n",
       "      <th>24193</th>\n",
       "      <td>1.0</td>\n",
       "      <td>17/08/2021</td>\n",
       "      <td>NaN</td>\n",
       "      <td>NaN</td>\n",
       "      <td>Kargil</td>\n",
       "      <td>Ladakh</td>\n",
       "      <td>Hospitalized</td>\n",
       "      <td>17</td>\n",
       "      <td>08</td>\n",
       "      <td>2021</td>\n",
       "    </tr>\n",
       "    <tr>\n",
       "      <th>24194</th>\n",
       "      <td>6.0</td>\n",
       "      <td>17/08/2021</td>\n",
       "      <td>NaN</td>\n",
       "      <td>NaN</td>\n",
       "      <td>Leh</td>\n",
       "      <td>Ladakh</td>\n",
       "      <td>Recovered</td>\n",
       "      <td>17</td>\n",
       "      <td>08</td>\n",
       "      <td>2021</td>\n",
       "    </tr>\n",
       "    <tr>\n",
       "      <th>24195</th>\n",
       "      <td>1.0</td>\n",
       "      <td>17/08/2021</td>\n",
       "      <td>NaN</td>\n",
       "      <td>NaN</td>\n",
       "      <td>Kargil</td>\n",
       "      <td>Ladakh</td>\n",
       "      <td>Recovered</td>\n",
       "      <td>17</td>\n",
       "      <td>08</td>\n",
       "      <td>2021</td>\n",
       "    </tr>\n",
       "    <tr>\n",
       "      <th>24196</th>\n",
       "      <td>NaN</td>\n",
       "      <td>18/08/2021</td>\n",
       "      <td>NaN</td>\n",
       "      <td>NaN</td>\n",
       "      <td>NaN</td>\n",
       "      <td>NaN</td>\n",
       "      <td>NaN</td>\n",
       "      <td>18</td>\n",
       "      <td>08</td>\n",
       "      <td>2021</td>\n",
       "    </tr>\n",
       "    <tr>\n",
       "      <th>24197</th>\n",
       "      <td>NaN</td>\n",
       "      <td>18/08/2021</td>\n",
       "      <td>NaN</td>\n",
       "      <td>NaN</td>\n",
       "      <td>NaN</td>\n",
       "      <td>NaN</td>\n",
       "      <td>NaN</td>\n",
       "      <td>18</td>\n",
       "      <td>08</td>\n",
       "      <td>2021</td>\n",
       "    </tr>\n",
       "  </tbody>\n",
       "</table>\n",
       "<p>779240 rows × 10 columns</p>\n",
       "</div>"
      ],
      "text/plain": [
       "       Num Cases Date Announced Age Bracket Gender Detected District  \\\n",
       "0            1.0     30/01/2020          20      F          Thrissur   \n",
       "1            1.0     02/02/2020         NaN    NaN         Alappuzha   \n",
       "2            1.0     03/02/2020         NaN    NaN         Kasaragod   \n",
       "3            1.0     02/03/2020          45      M        East Delhi   \n",
       "4            1.0     02/03/2020          24      M         Hyderabad   \n",
       "...          ...            ...         ...    ...               ...   \n",
       "24193        1.0     17/08/2021         NaN    NaN            Kargil   \n",
       "24194        6.0     17/08/2021         NaN    NaN               Leh   \n",
       "24195        1.0     17/08/2021         NaN    NaN            Kargil   \n",
       "24196        NaN     18/08/2021         NaN    NaN               NaN   \n",
       "24197        NaN     18/08/2021         NaN    NaN               NaN   \n",
       "\n",
       "      Detected State Current Status Day Month  Year  \n",
       "0             Kerala      Recovered  30    01  2020  \n",
       "1             Kerala      Recovered  02    02  2020  \n",
       "2             Kerala      Recovered  03    02  2020  \n",
       "3              Delhi      Recovered  02    03  2020  \n",
       "4          Telangana      Recovered  02    03  2020  \n",
       "...              ...            ...  ..   ...   ...  \n",
       "24193         Ladakh   Hospitalized  17    08  2021  \n",
       "24194         Ladakh      Recovered  17    08  2021  \n",
       "24195         Ladakh      Recovered  17    08  2021  \n",
       "24196            NaN            NaN  18    08  2021  \n",
       "24197            NaN            NaN  18    08  2021  \n",
       "\n",
       "[779240 rows x 10 columns]"
      ]
     },
     "execution_count": 9,
     "metadata": {},
     "output_type": "execute_result"
    }
   ],
   "source": [
    "#concatinating extracted Day,Month and Year Column\n",
    "df = pd.concat([df,Date],axis=1)\n",
    "df"
   ]
  },
  {
   "cell_type": "code",
   "execution_count": 10,
   "id": "e2e3a05c",
   "metadata": {},
   "outputs": [],
   "source": [
    "#converting dataset into the file \n",
    "data = df.to_csv('Covid19India.csv')"
   ]
  },
  {
   "cell_type": "code",
   "execution_count": 12,
   "id": "3d76f0f0",
   "metadata": {},
   "outputs": [
    {
     "name": "stderr",
     "output_type": "stream",
     "text": [
      "C:\\Users\\prashik\\anaconda3\\lib\\site-packages\\IPython\\core\\interactiveshell.py:3165: DtypeWarning: Columns (3) have mixed types.Specify dtype option on import or set low_memory=False.\n",
      "  has_raised = await self.run_ast_nodes(code_ast.body, cell_name,\n"
     ]
    },
    {
     "data": {
      "text/html": [
       "<div>\n",
       "<style scoped>\n",
       "    .dataframe tbody tr th:only-of-type {\n",
       "        vertical-align: middle;\n",
       "    }\n",
       "\n",
       "    .dataframe tbody tr th {\n",
       "        vertical-align: top;\n",
       "    }\n",
       "\n",
       "    .dataframe thead th {\n",
       "        text-align: right;\n",
       "    }\n",
       "</style>\n",
       "<table border=\"1\" class=\"dataframe\">\n",
       "  <thead>\n",
       "    <tr style=\"text-align: right;\">\n",
       "      <th></th>\n",
       "      <th>Unnamed: 0</th>\n",
       "      <th>Num Cases</th>\n",
       "      <th>Date Announced</th>\n",
       "      <th>Age Bracket</th>\n",
       "      <th>Gender</th>\n",
       "      <th>Detected District</th>\n",
       "      <th>Detected State</th>\n",
       "      <th>Current Status</th>\n",
       "      <th>Day</th>\n",
       "      <th>Month</th>\n",
       "      <th>Year</th>\n",
       "    </tr>\n",
       "  </thead>\n",
       "  <tbody>\n",
       "    <tr>\n",
       "      <th>0</th>\n",
       "      <td>0</td>\n",
       "      <td>1.0</td>\n",
       "      <td>30/01/2020</td>\n",
       "      <td>20</td>\n",
       "      <td>F</td>\n",
       "      <td>Thrissur</td>\n",
       "      <td>Kerala</td>\n",
       "      <td>Recovered</td>\n",
       "      <td>30.0</td>\n",
       "      <td>1.0</td>\n",
       "      <td>2020.0</td>\n",
       "    </tr>\n",
       "    <tr>\n",
       "      <th>1</th>\n",
       "      <td>1</td>\n",
       "      <td>1.0</td>\n",
       "      <td>02/02/2020</td>\n",
       "      <td>NaN</td>\n",
       "      <td>NaN</td>\n",
       "      <td>Alappuzha</td>\n",
       "      <td>Kerala</td>\n",
       "      <td>Recovered</td>\n",
       "      <td>2.0</td>\n",
       "      <td>2.0</td>\n",
       "      <td>2020.0</td>\n",
       "    </tr>\n",
       "    <tr>\n",
       "      <th>2</th>\n",
       "      <td>2</td>\n",
       "      <td>1.0</td>\n",
       "      <td>03/02/2020</td>\n",
       "      <td>NaN</td>\n",
       "      <td>NaN</td>\n",
       "      <td>Kasaragod</td>\n",
       "      <td>Kerala</td>\n",
       "      <td>Recovered</td>\n",
       "      <td>3.0</td>\n",
       "      <td>2.0</td>\n",
       "      <td>2020.0</td>\n",
       "    </tr>\n",
       "    <tr>\n",
       "      <th>3</th>\n",
       "      <td>3</td>\n",
       "      <td>1.0</td>\n",
       "      <td>02/03/2020</td>\n",
       "      <td>45</td>\n",
       "      <td>M</td>\n",
       "      <td>East Delhi</td>\n",
       "      <td>Delhi</td>\n",
       "      <td>Recovered</td>\n",
       "      <td>2.0</td>\n",
       "      <td>3.0</td>\n",
       "      <td>2020.0</td>\n",
       "    </tr>\n",
       "    <tr>\n",
       "      <th>4</th>\n",
       "      <td>4</td>\n",
       "      <td>1.0</td>\n",
       "      <td>02/03/2020</td>\n",
       "      <td>24</td>\n",
       "      <td>M</td>\n",
       "      <td>Hyderabad</td>\n",
       "      <td>Telangana</td>\n",
       "      <td>Recovered</td>\n",
       "      <td>2.0</td>\n",
       "      <td>3.0</td>\n",
       "      <td>2020.0</td>\n",
       "    </tr>\n",
       "    <tr>\n",
       "      <th>...</th>\n",
       "      <td>...</td>\n",
       "      <td>...</td>\n",
       "      <td>...</td>\n",
       "      <td>...</td>\n",
       "      <td>...</td>\n",
       "      <td>...</td>\n",
       "      <td>...</td>\n",
       "      <td>...</td>\n",
       "      <td>...</td>\n",
       "      <td>...</td>\n",
       "      <td>...</td>\n",
       "    </tr>\n",
       "    <tr>\n",
       "      <th>779235</th>\n",
       "      <td>24193</td>\n",
       "      <td>1.0</td>\n",
       "      <td>17/08/2021</td>\n",
       "      <td>NaN</td>\n",
       "      <td>NaN</td>\n",
       "      <td>Kargil</td>\n",
       "      <td>Ladakh</td>\n",
       "      <td>Hospitalized</td>\n",
       "      <td>17.0</td>\n",
       "      <td>8.0</td>\n",
       "      <td>2021.0</td>\n",
       "    </tr>\n",
       "    <tr>\n",
       "      <th>779236</th>\n",
       "      <td>24194</td>\n",
       "      <td>6.0</td>\n",
       "      <td>17/08/2021</td>\n",
       "      <td>NaN</td>\n",
       "      <td>NaN</td>\n",
       "      <td>Leh</td>\n",
       "      <td>Ladakh</td>\n",
       "      <td>Recovered</td>\n",
       "      <td>17.0</td>\n",
       "      <td>8.0</td>\n",
       "      <td>2021.0</td>\n",
       "    </tr>\n",
       "    <tr>\n",
       "      <th>779237</th>\n",
       "      <td>24195</td>\n",
       "      <td>1.0</td>\n",
       "      <td>17/08/2021</td>\n",
       "      <td>NaN</td>\n",
       "      <td>NaN</td>\n",
       "      <td>Kargil</td>\n",
       "      <td>Ladakh</td>\n",
       "      <td>Recovered</td>\n",
       "      <td>17.0</td>\n",
       "      <td>8.0</td>\n",
       "      <td>2021.0</td>\n",
       "    </tr>\n",
       "    <tr>\n",
       "      <th>779238</th>\n",
       "      <td>24196</td>\n",
       "      <td>NaN</td>\n",
       "      <td>18/08/2021</td>\n",
       "      <td>NaN</td>\n",
       "      <td>NaN</td>\n",
       "      <td>NaN</td>\n",
       "      <td>NaN</td>\n",
       "      <td>NaN</td>\n",
       "      <td>18.0</td>\n",
       "      <td>8.0</td>\n",
       "      <td>2021.0</td>\n",
       "    </tr>\n",
       "    <tr>\n",
       "      <th>779239</th>\n",
       "      <td>24197</td>\n",
       "      <td>NaN</td>\n",
       "      <td>18/08/2021</td>\n",
       "      <td>NaN</td>\n",
       "      <td>NaN</td>\n",
       "      <td>NaN</td>\n",
       "      <td>NaN</td>\n",
       "      <td>NaN</td>\n",
       "      <td>18.0</td>\n",
       "      <td>8.0</td>\n",
       "      <td>2021.0</td>\n",
       "    </tr>\n",
       "  </tbody>\n",
       "</table>\n",
       "<p>779240 rows × 11 columns</p>\n",
       "</div>"
      ],
      "text/plain": [
       "        Unnamed: 0  Num Cases Date Announced Age Bracket Gender  \\\n",
       "0                0        1.0     30/01/2020          20      F   \n",
       "1                1        1.0     02/02/2020         NaN    NaN   \n",
       "2                2        1.0     03/02/2020         NaN    NaN   \n",
       "3                3        1.0     02/03/2020          45      M   \n",
       "4                4        1.0     02/03/2020          24      M   \n",
       "...            ...        ...            ...         ...    ...   \n",
       "779235       24193        1.0     17/08/2021         NaN    NaN   \n",
       "779236       24194        6.0     17/08/2021         NaN    NaN   \n",
       "779237       24195        1.0     17/08/2021         NaN    NaN   \n",
       "779238       24196        NaN     18/08/2021         NaN    NaN   \n",
       "779239       24197        NaN     18/08/2021         NaN    NaN   \n",
       "\n",
       "       Detected District Detected State Current Status   Day  Month    Year  \n",
       "0               Thrissur         Kerala      Recovered  30.0    1.0  2020.0  \n",
       "1              Alappuzha         Kerala      Recovered   2.0    2.0  2020.0  \n",
       "2              Kasaragod         Kerala      Recovered   3.0    2.0  2020.0  \n",
       "3             East Delhi          Delhi      Recovered   2.0    3.0  2020.0  \n",
       "4              Hyderabad      Telangana      Recovered   2.0    3.0  2020.0  \n",
       "...                  ...            ...            ...   ...    ...     ...  \n",
       "779235            Kargil         Ladakh   Hospitalized  17.0    8.0  2021.0  \n",
       "779236               Leh         Ladakh      Recovered  17.0    8.0  2021.0  \n",
       "779237            Kargil         Ladakh      Recovered  17.0    8.0  2021.0  \n",
       "779238               NaN            NaN            NaN  18.0    8.0  2021.0  \n",
       "779239               NaN            NaN            NaN  18.0    8.0  2021.0  \n",
       "\n",
       "[779240 rows x 11 columns]"
      ]
     },
     "execution_count": 12,
     "metadata": {},
     "output_type": "execute_result"
    }
   ],
   "source": [
    "#reading the Covid19India.csv file\n",
    "data = pd.read_csv('C:\\\\Users\\\\prashik\\\\Desktop\\\\MiniProject\\\\Covid19India.csv')\n",
    "data"
   ]
  },
  {
   "cell_type": "code",
   "execution_count": 13,
   "id": "a190555d",
   "metadata": {},
   "outputs": [
    {
     "name": "stdout",
     "output_type": "stream",
     "text": [
      "<class 'pandas.core.frame.DataFrame'>\n",
      "RangeIndex: 779240 entries, 0 to 779239\n",
      "Data columns (total 11 columns):\n",
      " #   Column             Non-Null Count   Dtype  \n",
      "---  ------             --------------   -----  \n",
      " 0   Unnamed: 0         779240 non-null  int64  \n",
      " 1   Num Cases          779214 non-null  float64\n",
      " 2   Date Announced     779233 non-null  object \n",
      " 3   Age Bracket        133088 non-null  object \n",
      " 4   Gender             135354 non-null  object \n",
      " 5   Detected District  763434 non-null  object \n",
      " 6   Detected State     779215 non-null  object \n",
      " 7   Current Status     779224 non-null  object \n",
      " 8   Day                779233 non-null  float64\n",
      " 9   Month              779233 non-null  float64\n",
      " 10  Year               779233 non-null  float64\n",
      "dtypes: float64(4), int64(1), object(6)\n",
      "memory usage: 65.4+ MB\n"
     ]
    }
   ],
   "source": [
    "data.info()"
   ]
  },
  {
   "cell_type": "code",
   "execution_count": 14,
   "id": "9d6f7adf",
   "metadata": {},
   "outputs": [
    {
     "data": {
      "text/plain": [
       "Age Bracket          646152\n",
       "Gender               643886\n",
       "Detected District     15806\n",
       "Num Cases                26\n",
       "Detected State           25\n",
       "Current Status           16\n",
       "Date Announced            7\n",
       "Day                       7\n",
       "Month                     7\n",
       "Year                      7\n",
       "Unnamed: 0                0\n",
       "dtype: int64"
      ]
     },
     "execution_count": 14,
     "metadata": {},
     "output_type": "execute_result"
    }
   ],
   "source": [
    "#checking the null values\n",
    "data.isnull().sum().sort_values(ascending=False)"
   ]
  },
  {
   "cell_type": "code",
   "execution_count": 15,
   "id": "c5c17532",
   "metadata": {},
   "outputs": [
    {
     "data": {
      "text/plain": [
       "Age Bracket          82.92\n",
       "Gender               82.63\n",
       "Detected District     2.03\n",
       "Num Cases             0.00\n",
       "Detected State        0.00\n",
       "Current Status        0.00\n",
       "Date Announced        0.00\n",
       "Day                   0.00\n",
       "Month                 0.00\n",
       "Year                  0.00\n",
       "Unnamed: 0            0.00\n",
       "dtype: float64"
      ]
     },
     "execution_count": 15,
     "metadata": {},
     "output_type": "execute_result"
    }
   ],
   "source": [
    "#checking null values percentage wise\n",
    "val = data.isnull().sum().sort_values(ascending=False)/len(data)*100\n",
    "round(val,2)"
   ]
  },
  {
   "cell_type": "code",
   "execution_count": 16,
   "id": "f7c6154c",
   "metadata": {},
   "outputs": [
    {
     "data": {
      "text/plain": [
       "404953    10\n",
       "404954    10\n",
       "404952    10\n",
       "271479    10\n",
       "224898    10\n",
       "          ..\n",
       "198298     0\n",
       "198299     0\n",
       "198300     0\n",
       "198301     0\n",
       "0          0\n",
       "Length: 779240, dtype: int64"
      ]
     },
     "execution_count": 16,
     "metadata": {},
     "output_type": "execute_result"
    }
   ],
   "source": [
    "#checking row wise null values\n",
    "data.isnull().sum(axis=1).sort_values(ascending=False)"
   ]
  },
  {
   "cell_type": "code",
   "execution_count": 17,
   "id": "3dd95ae6",
   "metadata": {},
   "outputs": [
    {
     "data": {
      "text/plain": [
       "Month\n",
       "1.0      1031651.0\n",
       "2.0       706826.0\n",
       "3.0      1804285.0\n",
       "4.0     11225643.0\n",
       "5.0     19649095.0\n",
       "6.0      6510403.0\n",
       "7.0      4479099.0\n",
       "8.0      5065833.0\n",
       "9.0      5088546.0\n",
       "10.0     4116679.0\n",
       "11.0     2695136.0\n",
       "12.0     1828219.0\n",
       "Name: Num Cases, dtype: float64"
      ]
     },
     "execution_count": 17,
     "metadata": {},
     "output_type": "execute_result"
    }
   ],
   "source": [
    "#Checking cases month wise\n",
    "data.groupby('Month')['Num Cases'].sum()"
   ]
  },
  {
   "cell_type": "code",
   "execution_count": 18,
   "id": "347d51bf",
   "metadata": {},
   "outputs": [
    {
     "data": {
      "text/plain": [
       "Month\n",
       "1.0      472317.0\n",
       "2.0      353426.0\n",
       "3.0     1110091.0\n",
       "4.0     6969688.0\n",
       "5.0     9172468.0\n",
       "6.0     2632028.0\n",
       "7.0     2355236.0\n",
       "8.0     2621259.0\n",
       "9.0     2622324.0\n",
       "10.0    1873130.0\n",
       "11.0    1279860.0\n",
       "12.0     823056.0\n",
       "Name: Num Cases, dtype: float64"
      ]
     },
     "execution_count": 18,
     "metadata": {},
     "output_type": "execute_result"
    }
   ],
   "source": [
    "#checking the hospitalized patients month wise\n",
    "Month = data[data['Current Status']=='Hospitalized'].groupby('Month')['Num Cases'].sum()\n",
    "Month"
   ]
  },
  {
   "cell_type": "code",
   "execution_count": 19,
   "id": "34132d2d",
   "metadata": {},
   "outputs": [
    {
     "data": {
      "image/png": "[encoded data removed]",
      "text/plain": [
       "<Figure size 720x360 with 1 Axes>"
      ]
     },
     "metadata": {
      "needs_background": "light"
     },
     "output_type": "display_data"
    }
   ],
   "source": [
    "#ploting the month wise total cases \n",
    "Month.plot.bar(figsize=(10,5))\n",
    "plt.xlabel(\"Month\")\n",
    "plt.ylabel(\"Number of cases\")\n",
    "plt.title(\"Month wise total cases\")\n",
    "plt.show()"
   ]
  },
  {
   "cell_type": "code",
   "execution_count": 20,
   "id": "bed2b1f2",
   "metadata": {
    "scrolled": true
   },
   "outputs": [
    {
     "data": {
      "text/plain": [
       "Gender\n",
       " M                1.0\n",
       "-                 1.0\n",
       "F             48710.0\n",
       "F                 6.0\n",
       "Femal e           1.0\n",
       "M             89917.0\n",
       "M                 7.0\n",
       "M,                1.0\n",
       "Non-Binary       18.0\n",
       "gf                1.0\n",
       "Name: Num Cases, dtype: float64"
      ]
     },
     "execution_count": 20,
     "metadata": {},
     "output_type": "execute_result"
    }
   ],
   "source": [
    "#checking cases gender wise\n",
    "data.groupby('Gender')['Num Cases'].sum()"
   ]
  },
  {
   "cell_type": "markdown",
   "id": "41857ef8",
   "metadata": {},
   "source": [
    "# Data Cleaning and visualization on Covid19India.csv dataset"
   ]
  },
  {
   "cell_type": "code",
   "execution_count": 21,
   "id": "9925eb26",
   "metadata": {},
   "outputs": [
    {
     "data": {
      "text/plain": [
       "array(['F', nan, 'M', 'Non-Binary', 'M ', 'M,', 'Femal e', 'F ', 'gf',\n",
       "       '-', ' M'], dtype=object)"
      ]
     },
     "execution_count": 21,
     "metadata": {},
     "output_type": "execute_result"
    }
   ],
   "source": [
    "#checking unique values in gender column\n",
    "data['Gender'].unique()"
   ]
  },
  {
   "cell_type": "code",
   "execution_count": 22,
   "id": "22dbc593",
   "metadata": {},
   "outputs": [],
   "source": [
    "#replacing with proper notation\n",
    "data = data.replace(' M','M')\n",
    "data = data.replace('M,','M')\n",
    "data = data.replace('M ','M')\n",
    "data = data.replace('Non-Binary','M')\n",
    "data = data.replace('nan','M')\n",
    "data = data.replace('Femal e','F')\n",
    "data = data.replace('F ','F')\n",
    "data = data.replace('gf','F')\n",
    "data = data.replace('-','F')"
   ]
  },
  {
   "cell_type": "code",
   "execution_count": 23,
   "id": "5be29e37",
   "metadata": {},
   "outputs": [
    {
     "data": {
      "text/plain": [
       "Gender\n",
       "F    48719.0\n",
       "M    89944.0\n",
       "Name: Num Cases, dtype: float64"
      ]
     },
     "execution_count": 23,
     "metadata": {},
     "output_type": "execute_result"
    }
   ],
   "source": [
    "#checking gender wise cases\n",
    "Gender = data.groupby('Gender')['Num Cases'].sum()\n",
    "Gender"
   ]
  },
  {
   "cell_type": "code",
   "execution_count": 24,
   "id": "bb168f1f",
   "metadata": {},
   "outputs": [
    {
     "data": {
      "image/png": "[encoded data removed]",
      "text/plain": [
       "<Figure size 720x360 with 1 Axes>"
      ]
     },
     "metadata": {
      "needs_background": "light"
     },
     "output_type": "display_data"
    }
   ],
   "source": [
    "#ploting the cases gender wise\n",
    "Gender.plot.bar(figsize=(10,5))\n",
    "plt.xlabel(\"Gender\")\n",
    "plt.ylabel(\"Number of cases\")\n",
    "plt.title(\"Gender wise total cases\")\n",
    "plt.show()"
   ]
  },
  {
   "cell_type": "code",
   "execution_count": 25,
   "id": "fbe16fae",
   "metadata": {
    "scrolled": true
   },
   "outputs": [
    {
     "data": {
      "text/plain": [
       "array(['20', nan, '45', '24', '69', '55', '70', '16', '27', '59', '65',\n",
       "       '75', '54', '53', '61', '25', '63', '46', '3', '48', '40', '47',\n",
       "       '13', '96', '89', '85', '68', '26', '33', '76', '37', '43', '21',\n",
       "       '42', '44', '51', '31', '32', '29', '67', '49', '52', '22', '18',\n",
       "       '34', '28', '56', '35', '50', '30', '38', '23', '19', '58', '41',\n",
       "       '2', '60', '74', '39', '17', '36', '57', '64', '81', '62', '73',\n",
       "       '9', '7', '66', '12', '1', '14', '11', '6', '28-35', '92', '72',\n",
       "       '15', '77', '10', '80', '71', '78', '79', '90', '4', '8', '5',\n",
       "       '1.5', '48.0', '55.0', '57.0', '58.0', '66.0', '32.0', '2.0',\n",
       "       '17.0', '13.0', '30.0', '50.0', '19.0', '40.0', '28.0', '64.0',\n",
       "       '24.0', '7.0', '36.0', '27.0', '25.0', '21.0', '47.0', '10.0',\n",
       "       '34.0', '38.0', '14.0', '22.0', '23.0', '26.0', '45.0', '16.0',\n",
       "       '18.0', '60.0', '12.0', '67.0', '29.0', '61.0', '80.0', '39.0',\n",
       "       '31.0', '20.0', '37.0', '54.0', '42.0', '43.0', '35.0', '46.0',\n",
       "       '0.4', '9.0', '33.0', '65.0', '0.3', '56.0', '68.0', '49.0',\n",
       "       '70.0', '78.0', '41.0', '62.0', '85.0', '3.0', '88.0', '5.0',\n",
       "       '4.0', '44.0', '11.0', '63.0', '8.0', '52.0', '15.0', '6.0',\n",
       "       '98.0', '75.0', '72.0', '53.0', '59.0', '1.0', '76.0', '51.0',\n",
       "       '90.0', '79.0', '69.0', '74.0', '71.0', '83.0', '77.0', '73.0',\n",
       "       '81.0', '82.0', '84.0', '2.5', '87.0', '89.0', '86.0', '0.2',\n",
       "       '0.7', '0.0', '29.6', '0.1', '3.5', '95.0', '94.0', '99.0', '0.5',\n",
       "       '91.0', '92.0', '93.0', '0.9', '0.25', '96.0', '54.9', '97.0',\n",
       "       '0.6', '99', '82', '87', '83', '0.67', '0.33', '86', '6 Months',\n",
       "       '91', '5 months', '84', '1.6', '5 Months', '93', '95', '9 Months',\n",
       "       '8 month', '97', '1 DAY', '9 Month', '18-28', '9.5', '100.0',\n",
       "       '0.01', '88', '94', '16 DAYS', '0', '100', '0.8', '98', '2 Months',\n",
       "       '105', '2.4', '4.5', '0.05', 's', '102', '0.04', '4 Months',\n",
       "       '1.5 Months', '1.9', '101.0', 60.0, 41.0, 51.0, 62.0, 35.0, 42.0,\n",
       "       70.0, 67.0, 72.0, 75.0, 63.0, 74.0, 37.0, 5.0, 53.0, 54.0, 50.0,\n",
       "       94.0, 55.0, 59.0, 65.0, 78.0, 56.0, 30.0, 76.0, 84.0, 92.0, 48.0,\n",
       "       57.0, 68.0, 43.0, 69.0, 58.0, 82.0, 79.0, 39.0, 47.0, 85.0, 80.0,\n",
       "       38.0, 45.0, 52.0, 3.0, 17.0, 64.0, 81.0, 77.0, 49.0, 61.0, 40.0,\n",
       "       44.0, 86.0, 88.0, 93.0, 66.0, 73.0, 31.0, 87.0, 90.0, 16.0, 25.0,\n",
       "       91.0, 83.0, 95.0, 15.0, 33.0, 46.0, 32.0, 22.0, 71.0, 20.0, 1.6,\n",
       "       24.0, 23.0, 27.0, 34.0, 28.0, 26.0, 89.0, 1.0, 97.0, 36.0, 29.0,\n",
       "       18.0, 103.0, 21.0, 96.0, 13.0, 14.0, 99.0, 0.5, 98.0, 19.0, 6.0,\n",
       "       0.1, 100.0, 9.0, 102.0, 104.0, 0.0, 107.0, 121.0, 110.0, 2.0,\n",
       "       105.0, 12.0, 106.0], dtype=object)"
      ]
     },
     "execution_count": 25,
     "metadata": {},
     "output_type": "execute_result"
    }
   ],
   "source": [
    "#checking the unique values of age bracket\n",
    "data['Age Bracket'].unique()"
   ]
  },
  {
   "cell_type": "code",
   "execution_count": 26,
   "id": "2d5c2799",
   "metadata": {},
   "outputs": [],
   "source": [
    "#replacing with appropriate notations\n",
    "data = data.replace('30','30.0')\n",
    "data = data.replace('35','35.0')\n",
    "data = data.replace('40','40.0')\n",
    "data = data.replace('45','45.0')\n",
    "data = data.replace('40','40.0')\n",
    "data = data.replace('32','32.0')\n",
    "data = data.replace('28','28.0')\n",
    "data = data.replace('25','25.0')"
   ]
  },
  {
   "cell_type": "code",
   "execution_count": 27,
   "id": "19bc41e2",
   "metadata": {
    "scrolled": true
   },
   "outputs": [
    {
     "data": {
      "text/plain": [
       "Age Bracket\n",
       "30.0    3714.0\n",
       "40.0    3346.0\n",
       "35.0    3316.0\n",
       "45.0    3145.0\n",
       "25.0    3084.0\n",
       "32.0    2997.0\n",
       "28.0    2892.0\n",
       "58.0    1761.0\n",
       "26.0    1360.0\n",
       "50.0    1359.0\n",
       "Name: Num Cases, dtype: float64"
      ]
     },
     "execution_count": 27,
     "metadata": {},
     "output_type": "execute_result"
    }
   ],
   "source": [
    "#finding the sum of cases which are present in age bracket\n",
    "Age = data.groupby('Age Bracket')['Num Cases'].sum().sort_values(ascending=False).head(10)\n",
    "Age"
   ]
  },
  {
   "cell_type": "code",
   "execution_count": 28,
   "id": "017a5c8a",
   "metadata": {},
   "outputs": [
    {
     "data": {
      "image/png": "[encoded data removed]",
      "text/plain": [
       "<Figure size 936x504 with 1 Axes>"
      ]
     },
     "metadata": {
      "needs_background": "light"
     },
     "output_type": "display_data"
    }
   ],
   "source": [
    "#ploting the age wise cases\n",
    "Age.plot.bar(figsize=(13,7))\n",
    "plt.xlabel(\"Age Bracket\")\n",
    "plt.ylabel(\"Number of cases\")\n",
    "plt.title(\"Age wise total cases\")\n",
    "plt.show()"
   ]
  },
  {
   "cell_type": "code",
   "execution_count": 29,
   "id": "5650d84d",
   "metadata": {},
   "outputs": [
    {
     "data": {
      "text/plain": [
       "Detected State\n",
       "Maharashtra                                 6401199.0\n",
       "Kerala                                      3723969.0\n",
       "Karnataka                                   2931755.0\n",
       "Tamil Nadu                                  2592429.0\n",
       "Andhra Pradesh                              1995667.0\n",
       "Uttar Pradesh                               1708982.0\n",
       "West Bengal                                 1539606.0\n",
       "Delhi                                       1437152.0\n",
       "Chhattisgarh                                1003862.0\n",
       "Odisha                                       996152.0\n",
       "Rajasthan                                    953956.0\n",
       "Gujarat                                      825208.0\n",
       "Madhya Pradesh                               792050.0\n",
       "Haryana                                      770233.0\n",
       "Bihar                                        725517.0\n",
       "Telangana                                    653200.0\n",
       "Punjab                                       600006.0\n",
       "Assam                                        581398.0\n",
       "Jharkhand                                    347635.0\n",
       "Uttarakhand                                  342636.0\n",
       "Jammu and Kashmir                            323581.0\n",
       "Himachal Pradesh                             210717.0\n",
       "Goa                                          172683.0\n",
       "Puducherry                                   122391.0\n",
       "Manipur                                      108947.0\n",
       "Tripura                                       81440.0\n",
       "Meghalaya                                     72412.0\n",
       "Chandigarh                                    62035.0\n",
       "Arunachal Pradesh                             51655.0\n",
       "Mizoram                                       49350.0\n",
       "Nagaland                                      29274.0\n",
       "Sikkim                                        28830.0\n",
       "Ladakh                                        20462.0\n",
       "Dadra and Nagar Haveli and Daman and Diu      10660.0\n",
       "Lakshadweep                                   10295.0\n",
       "Andaman and Nicobar Islands                    7538.0\n",
       "State Unassigned                                  0.0\n",
       "Name: Num Cases, dtype: float64"
      ]
     },
     "execution_count": 29,
     "metadata": {},
     "output_type": "execute_result"
    }
   ],
   "source": [
    "#checking the total no. of cases state wise which are hospitalized\n",
    "State = data[data['Current Status']=='Hospitalized'].groupby('Detected State')['Num Cases'].sum().sort_values(ascending=False)\n",
    "State "
   ]
  },
  {
   "cell_type": "code",
   "execution_count": 30,
   "id": "16f85497",
   "metadata": {},
   "outputs": [
    {
     "data": {
      "image/png": "[encoded data removed]",
      "text/plain": [
       "<Figure size 936x504 with 1 Axes>"
      ]
     },
     "metadata": {
      "needs_background": "light"
     },
     "output_type": "display_data"
    }
   ],
   "source": [
    "#ploting graph, cases state wise\n",
    "State.plot.bar(figsize=(13,7))\n",
    "plt.xlabel(\"State\")\n",
    "plt.ylabel(\"Number of cases\")\n",
    "plt.title(\"State wise total cases\")\n",
    "plt.show()"
   ]
  },
  {
   "cell_type": "code",
   "execution_count": 31,
   "id": "edba6c14",
   "metadata": {},
   "outputs": [
    {
     "data": {
      "text/plain": [
       "array(['Recovered', 'Hospitalized', 'Deceased', 'Migrated',\n",
       "       'Migrated_Other', nan, 'Migrated_other', 'hospitalized'],\n",
       "      dtype=object)"
      ]
     },
     "execution_count": 31,
     "metadata": {},
     "output_type": "execute_result"
    }
   ],
   "source": [
    "#finding the unique values in Current State column\n",
    "data['Current Status'].unique()"
   ]
  },
  {
   "cell_type": "code",
   "execution_count": 32,
   "id": "024dbbd8",
   "metadata": {},
   "outputs": [],
   "source": [
    "data = data.replace('hospitalized','Hospitalized')"
   ]
  },
  {
   "cell_type": "code",
   "execution_count": 33,
   "id": "c226c8a3",
   "metadata": {},
   "outputs": [
    {
     "data": {
      "text/plain": [
       "Month  Day \n",
       "5.0    6.0     417882.0\n",
       "       5.0     415595.0\n",
       "       7.0     410245.0\n",
       "       8.0     407147.0\n",
       "4.0    30.0    403816.0\n",
       "                 ...   \n",
       "2.0    11.0      9353.0\n",
       "1.0    25.0      9098.0\n",
       "2.0    15.0      9086.0\n",
       "       8.0       8715.0\n",
       "       1.0       8579.0\n",
       "Name: Num Cases, Length: 365, dtype: float64"
      ]
     },
     "execution_count": 33,
     "metadata": {},
     "output_type": "execute_result"
    }
   ],
   "source": [
    "Day = data[data['Current Status']=='Hospitalized'].groupby(['Month','Day'])['Num Cases'].sum().sort_values(ascending=False)\n",
    "Day"
   ]
  },
  {
   "cell_type": "code",
   "execution_count": 34,
   "id": "459e5d85",
   "metadata": {},
   "outputs": [
    {
     "data": {
      "image/png": "[encoded data removed]",
      "text/plain": [
       "<Figure size 720x2160 with 12 Axes>"
      ]
     },
     "metadata": {
      "needs_background": "light"
     },
     "output_type": "display_data"
    }
   ],
   "source": [
    "#\n",
    "Day.unstack(level=0).plot(kind='bar',subplots=True,figsize=(10,30))\n",
    "plt.show()"
   ]
  },
  {
   "cell_type": "code",
   "execution_count": 35,
   "id": "6c10be23",
   "metadata": {},
   "outputs": [
    {
     "data": {
      "text/plain": [
       "array(['Recovered', 'Hospitalized', 'Deceased', 'Migrated',\n",
       "       'Migrated_Other', nan, 'Migrated_other'], dtype=object)"
      ]
     },
     "execution_count": 35,
     "metadata": {},
     "output_type": "execute_result"
    }
   ],
   "source": [
    "#finding the unique values in Current State column\n",
    "data['Current Status'].unique()"
   ]
  },
  {
   "cell_type": "code",
   "execution_count": 36,
   "id": "997aa4fa",
   "metadata": {},
   "outputs": [
    {
     "data": {
      "text/plain": [
       "Detected State\n",
       "Maharashtra                                 134924.0\n",
       "Karnataka                                    37031.0\n",
       "Tamil Nadu                                   34556.0\n",
       "Delhi                                        25020.0\n",
       "Uttar Pradesh                                22757.0\n",
       "Kerala                                       18869.0\n",
       "West Bengal                                  18301.0\n",
       "Punjab                                       16329.0\n",
       "Andhra Pradesh                               13640.0\n",
       "Chhattisgarh                                 13549.0\n",
       "Madhya Pradesh                               10414.0\n",
       "Gujarat                                       9931.0\n",
       "Haryana                                       9658.0\n",
       "Bihar                                         9648.0\n",
       "Rajasthan                                     8914.0\n",
       "Uttarakhand                                   7373.0\n",
       "Odisha                                        7074.0\n",
       "Assam                                         5512.0\n",
       "Jharkhand                                     5129.0\n",
       "Jammu and Kashmir                             4394.0\n",
       "Telangana                                     3823.0\n",
       "Himachal Pradesh                              3540.0\n",
       "Goa                                           3177.0\n",
       "Puducherry                                    1805.0\n",
       "Manipur                                       1722.0\n",
       "Meghalaya                                     1239.0\n",
       "Chandigarh                                     811.0\n",
       "Tripura                                        779.0\n",
       "Nagaland                                       607.0\n",
       "Sikkim                                         363.0\n",
       "Arunachal Pradesh                              252.0\n",
       "Ladakh                                         207.0\n",
       "Mizoram                                        184.0\n",
       "Andaman and Nicobar Islands                    129.0\n",
       "Lakshadweep                                     51.0\n",
       "Dadra and Nagar Haveli and Daman and Diu         4.0\n",
       "Name: Num Cases, dtype: float64"
      ]
     },
     "execution_count": 36,
     "metadata": {},
     "output_type": "execute_result"
    }
   ],
   "source": [
    "#finding the cases Death wise in each state\n",
    "Death = data[data['Current Status']=='Deceased'].groupby('Detected State')['Num Cases'].sum().sort_values(ascending=False)\n",
    "Death"
   ]
  },
  {
   "cell_type": "code",
   "execution_count": 37,
   "id": "31dba9fb",
   "metadata": {},
   "outputs": [
    {
     "data": {
      "image/png": "[encoded data removed]",
      "text/plain": [
       "<Figure size 936x504 with 1 Axes>"
      ]
     },
     "metadata": {
      "needs_background": "light"
     },
     "output_type": "display_data"
    }
   ],
   "source": [
    "#ploting the graph of Number of deaths state wise\n",
    "Death.plot.bar(figsize=(13,7))\n",
    "plt.xlabel(\"State\")\n",
    "plt.ylabel(\"Number of Deaths\")\n",
    "plt.title(\"State wise total Deaths\")\n",
    "plt.show()\n"
   ]
  },
  {
   "cell_type": "markdown",
   "id": "eab8f50c",
   "metadata": {},
   "source": [
    "# Vaccination Analysis"
   ]
  },
  {
   "cell_type": "markdown",
   "id": "7e0d795c",
   "metadata": {},
   "source": [
    "# Gathered the dataset from http://api.covid19india.org/csv/latest/vaccine_doses_statewise_v2.csv"
   ]
  },
  {
   "cell_type": "code",
   "execution_count": 38,
   "id": "5abbccf4",
   "metadata": {},
   "outputs": [],
   "source": [
    "#getting the live data using api\n",
    "vac = pd.read_csv('http://api.covid19india.org/csv/latest/vaccine_doses_statewise_v2.csv')"
   ]
  },
  {
   "cell_type": "code",
   "execution_count": 39,
   "id": "cc7b25f6",
   "metadata": {},
   "outputs": [],
   "source": [
    "#converting gathered data into csv format\n",
    "vac_data = vac.to_csv('vaccine.csv')"
   ]
  },
  {
   "cell_type": "code",
   "execution_count": 41,
   "id": "fa4db153",
   "metadata": {},
   "outputs": [
    {
     "data": {
      "text/html": [
       "<div>\n",
       "<style scoped>\n",
       "    .dataframe tbody tr th:only-of-type {\n",
       "        vertical-align: middle;\n",
       "    }\n",
       "\n",
       "    .dataframe tbody tr th {\n",
       "        vertical-align: top;\n",
       "    }\n",
       "\n",
       "    .dataframe thead th {\n",
       "        text-align: right;\n",
       "    }\n",
       "</style>\n",
       "<table border=\"1\" class=\"dataframe\">\n",
       "  <thead>\n",
       "    <tr style=\"text-align: right;\">\n",
       "      <th></th>\n",
       "      <th>Unnamed: 0</th>\n",
       "      <th>Vaccinated As of</th>\n",
       "      <th>State</th>\n",
       "      <th>First Dose Administered</th>\n",
       "      <th>Second Dose Administered</th>\n",
       "      <th>Total Doses Administered</th>\n",
       "    </tr>\n",
       "  </thead>\n",
       "  <tbody>\n",
       "    <tr>\n",
       "      <th>0</th>\n",
       "      <td>0</td>\n",
       "      <td>16/01/2021</td>\n",
       "      <td>Andaman and Nicobar Islands</td>\n",
       "      <td>225</td>\n",
       "      <td>0</td>\n",
       "      <td>225</td>\n",
       "    </tr>\n",
       "    <tr>\n",
       "      <th>1</th>\n",
       "      <td>1</td>\n",
       "      <td>16/01/2021</td>\n",
       "      <td>Andhra Pradesh</td>\n",
       "      <td>18412</td>\n",
       "      <td>0</td>\n",
       "      <td>18412</td>\n",
       "    </tr>\n",
       "    <tr>\n",
       "      <th>2</th>\n",
       "      <td>2</td>\n",
       "      <td>16/01/2021</td>\n",
       "      <td>Arunachal Pradesh</td>\n",
       "      <td>829</td>\n",
       "      <td>0</td>\n",
       "      <td>829</td>\n",
       "    </tr>\n",
       "    <tr>\n",
       "      <th>3</th>\n",
       "      <td>3</td>\n",
       "      <td>16/01/2021</td>\n",
       "      <td>Assam</td>\n",
       "      <td>3528</td>\n",
       "      <td>0</td>\n",
       "      <td>3528</td>\n",
       "    </tr>\n",
       "    <tr>\n",
       "      <th>4</th>\n",
       "      <td>4</td>\n",
       "      <td>16/01/2021</td>\n",
       "      <td>Bihar</td>\n",
       "      <td>18169</td>\n",
       "      <td>0</td>\n",
       "      <td>18169</td>\n",
       "    </tr>\n",
       "    <tr>\n",
       "      <th>...</th>\n",
       "      <td>...</td>\n",
       "      <td>...</td>\n",
       "      <td>...</td>\n",
       "      <td>...</td>\n",
       "      <td>...</td>\n",
       "      <td>...</td>\n",
       "    </tr>\n",
       "    <tr>\n",
       "      <th>9191</th>\n",
       "      <td>9191</td>\n",
       "      <td>16/09/2021</td>\n",
       "      <td>Uttar Pradesh</td>\n",
       "      <td>75109310</td>\n",
       "      <td>15514895</td>\n",
       "      <td>90624205</td>\n",
       "    </tr>\n",
       "    <tr>\n",
       "      <th>9192</th>\n",
       "      <td>9192</td>\n",
       "      <td>16/09/2021</td>\n",
       "      <td>Uttarakhand</td>\n",
       "      <td>7114868</td>\n",
       "      <td>2518626</td>\n",
       "      <td>9633494</td>\n",
       "    </tr>\n",
       "    <tr>\n",
       "      <th>9193</th>\n",
       "      <td>9193</td>\n",
       "      <td>16/09/2021</td>\n",
       "      <td>West Bengal</td>\n",
       "      <td>34765201</td>\n",
       "      <td>14173775</td>\n",
       "      <td>48938976</td>\n",
       "    </tr>\n",
       "    <tr>\n",
       "      <th>9194</th>\n",
       "      <td>9194</td>\n",
       "      <td>16/09/2021</td>\n",
       "      <td>Miscellaneous</td>\n",
       "      <td>1902540</td>\n",
       "      <td>1557571</td>\n",
       "      <td>3460111</td>\n",
       "    </tr>\n",
       "    <tr>\n",
       "      <th>9195</th>\n",
       "      <td>9195</td>\n",
       "      <td>16/09/2021</td>\n",
       "      <td>Total</td>\n",
       "      <td>582606905</td>\n",
       "      <td>189818839</td>\n",
       "      <td>772425744</td>\n",
       "    </tr>\n",
       "  </tbody>\n",
       "</table>\n",
       "<p>9196 rows × 6 columns</p>\n",
       "</div>"
      ],
      "text/plain": [
       "      Unnamed: 0 Vaccinated As of                        State  \\\n",
       "0              0       16/01/2021  Andaman and Nicobar Islands   \n",
       "1              1       16/01/2021               Andhra Pradesh   \n",
       "2              2       16/01/2021            Arunachal Pradesh   \n",
       "3              3       16/01/2021                        Assam   \n",
       "4              4       16/01/2021                        Bihar   \n",
       "...          ...              ...                          ...   \n",
       "9191        9191       16/09/2021                Uttar Pradesh   \n",
       "9192        9192       16/09/2021                  Uttarakhand   \n",
       "9193        9193       16/09/2021                  West Bengal   \n",
       "9194        9194       16/09/2021                Miscellaneous   \n",
       "9195        9195       16/09/2021                        Total   \n",
       "\n",
       "      First Dose Administered  Second Dose Administered  \\\n",
       "0                         225                         0   \n",
       "1                       18412                         0   \n",
       "2                         829                         0   \n",
       "3                        3528                         0   \n",
       "4                       18169                         0   \n",
       "...                       ...                       ...   \n",
       "9191                 75109310                  15514895   \n",
       "9192                  7114868                   2518626   \n",
       "9193                 34765201                  14173775   \n",
       "9194                  1902540                   1557571   \n",
       "9195                582606905                 189818839   \n",
       "\n",
       "      Total Doses Administered  \n",
       "0                          225  \n",
       "1                        18412  \n",
       "2                          829  \n",
       "3                         3528  \n",
       "4                        18169  \n",
       "...                        ...  \n",
       "9191                  90624205  \n",
       "9192                   9633494  \n",
       "9193                  48938976  \n",
       "9194                   3460111  \n",
       "9195                 772425744  \n",
       "\n",
       "[9196 rows x 6 columns]"
      ]
     },
     "execution_count": 41,
     "metadata": {},
     "output_type": "execute_result"
    }
   ],
   "source": [
    "#reading the dataset named vaccine.csv\n",
    "vac_data = pd.read_csv('C:\\\\Users\\\\prashik\\\\Desktop\\\\MiniProject\\\\vaccine.csv')\n",
    "vac_data"
   ]
  },
  {
   "cell_type": "code",
   "execution_count": 42,
   "id": "79c7a4dd",
   "metadata": {},
   "outputs": [
    {
     "data": {
      "text/plain": [
       "Index(['Unnamed: 0', 'Vaccinated As of', 'State', 'First Dose Administered',\n",
       "       'Second Dose Administered', 'Total Doses Administered'],\n",
       "      dtype='object')"
      ]
     },
     "execution_count": 42,
     "metadata": {},
     "output_type": "execute_result"
    }
   ],
   "source": [
    "#showing the columns\n",
    "vac_data.columns"
   ]
  },
  {
   "cell_type": "code",
   "execution_count": 43,
   "id": "3b718813",
   "metadata": {},
   "outputs": [
    {
     "data": {
      "text/plain": [
       "Unnamed: 0                  0\n",
       "Vaccinated As of            0\n",
       "State                       0\n",
       "First Dose Administered     0\n",
       "Second Dose Administered    0\n",
       "Total Doses Administered    0\n",
       "dtype: int64"
      ]
     },
     "execution_count": 43,
     "metadata": {},
     "output_type": "execute_result"
    }
   ],
   "source": [
    "#checking the null data in vaccine.csv\n",
    "vac_data.isnull().sum()"
   ]
  },
  {
   "cell_type": "code",
   "execution_count": 44,
   "id": "df4c20da",
   "metadata": {},
   "outputs": [
    {
     "data": {
      "text/plain": [
       "array(['Andaman and Nicobar Islands', 'Andhra Pradesh',\n",
       "       'Arunachal Pradesh', 'Assam', 'Bihar', 'Chandigarh',\n",
       "       'Chhattisgarh', 'Dadra and Nagar Haveli and Daman and Diu',\n",
       "       'Delhi', 'Goa', 'Gujarat', 'Haryana', 'Himachal Pradesh',\n",
       "       'Jammu and Kashmir', 'Jharkhand', 'Karnataka', 'Kerala', 'Ladakh',\n",
       "       'Lakshadweep', 'Madhya Pradesh', 'Maharashtra', 'Manipur',\n",
       "       'Meghalaya', 'Mizoram', 'Nagaland', 'Odisha', 'Puducherry',\n",
       "       'Punjab', 'Rajasthan', 'Sikkim', 'Tamil Nadu', 'Telangana',\n",
       "       'Tripura', 'Uttar Pradesh', 'Uttarakhand', 'West Bengal',\n",
       "       'Miscellaneous', 'Total'], dtype=object)"
      ]
     },
     "execution_count": 44,
     "metadata": {},
     "output_type": "execute_result"
    }
   ],
   "source": [
    "#checking the unique values in state column\n",
    "vac_data['State'].unique()"
   ]
  },
  {
   "cell_type": "markdown",
   "id": "ac24844c",
   "metadata": {},
   "source": [
    "# Renaming the columns of the vaccine.csv dataset"
   ]
  },
  {
   "cell_type": "code",
   "execution_count": 45,
   "id": "1df7f55b",
   "metadata": {},
   "outputs": [],
   "source": [
    "vac_data.rename(columns = {'Unnamed: 0':'Sr_No'},inplace=True)\n",
    "vac_data.rename(columns = {'Vaccinated As of':'Date'},inplace=True)\n",
    "vac_data.rename(columns = {'First Dose Administered':'First_Dose'},inplace=True)\n",
    "vac_data.rename(columns = {'Second Dose Administered':'Second_Dose'},inplace=True)\n",
    "vac_data.rename(columns = {'Total Doses Administered':'Total_Dose'},inplace=True)"
   ]
  },
  {
   "cell_type": "code",
   "execution_count": 46,
   "id": "d178e22a",
   "metadata": {},
   "outputs": [
    {
     "data": {
      "text/html": [
       "<div>\n",
       "<style scoped>\n",
       "    .dataframe tbody tr th:only-of-type {\n",
       "        vertical-align: middle;\n",
       "    }\n",
       "\n",
       "    .dataframe tbody tr th {\n",
       "        vertical-align: top;\n",
       "    }\n",
       "\n",
       "    .dataframe thead th {\n",
       "        text-align: right;\n",
       "    }\n",
       "</style>\n",
       "<table border=\"1\" class=\"dataframe\">\n",
       "  <thead>\n",
       "    <tr style=\"text-align: right;\">\n",
       "      <th></th>\n",
       "      <th>Sr_No</th>\n",
       "      <th>Date</th>\n",
       "      <th>State</th>\n",
       "      <th>First_Dose</th>\n",
       "      <th>Second_Dose</th>\n",
       "      <th>Total_Dose</th>\n",
       "    </tr>\n",
       "  </thead>\n",
       "  <tbody>\n",
       "    <tr>\n",
       "      <th>0</th>\n",
       "      <td>0</td>\n",
       "      <td>16/01/2021</td>\n",
       "      <td>Andaman and Nicobar Islands</td>\n",
       "      <td>225</td>\n",
       "      <td>0</td>\n",
       "      <td>225</td>\n",
       "    </tr>\n",
       "    <tr>\n",
       "      <th>1</th>\n",
       "      <td>1</td>\n",
       "      <td>16/01/2021</td>\n",
       "      <td>Andhra Pradesh</td>\n",
       "      <td>18412</td>\n",
       "      <td>0</td>\n",
       "      <td>18412</td>\n",
       "    </tr>\n",
       "    <tr>\n",
       "      <th>2</th>\n",
       "      <td>2</td>\n",
       "      <td>16/01/2021</td>\n",
       "      <td>Arunachal Pradesh</td>\n",
       "      <td>829</td>\n",
       "      <td>0</td>\n",
       "      <td>829</td>\n",
       "    </tr>\n",
       "    <tr>\n",
       "      <th>3</th>\n",
       "      <td>3</td>\n",
       "      <td>16/01/2021</td>\n",
       "      <td>Assam</td>\n",
       "      <td>3528</td>\n",
       "      <td>0</td>\n",
       "      <td>3528</td>\n",
       "    </tr>\n",
       "    <tr>\n",
       "      <th>4</th>\n",
       "      <td>4</td>\n",
       "      <td>16/01/2021</td>\n",
       "      <td>Bihar</td>\n",
       "      <td>18169</td>\n",
       "      <td>0</td>\n",
       "      <td>18169</td>\n",
       "    </tr>\n",
       "  </tbody>\n",
       "</table>\n",
       "</div>"
      ],
      "text/plain": [
       "   Sr_No        Date                        State  First_Dose  Second_Dose  \\\n",
       "0      0  16/01/2021  Andaman and Nicobar Islands         225            0   \n",
       "1      1  16/01/2021               Andhra Pradesh       18412            0   \n",
       "2      2  16/01/2021            Arunachal Pradesh         829            0   \n",
       "3      3  16/01/2021                        Assam        3528            0   \n",
       "4      4  16/01/2021                        Bihar       18169            0   \n",
       "\n",
       "   Total_Dose  \n",
       "0         225  \n",
       "1       18412  \n",
       "2         829  \n",
       "3        3528  \n",
       "4       18169  "
      ]
     },
     "execution_count": 46,
     "metadata": {},
     "output_type": "execute_result"
    }
   ],
   "source": [
    "vac_data.head()"
   ]
  },
  {
   "cell_type": "markdown",
   "id": "4e8dc460",
   "metadata": {},
   "source": [
    "# visusalizing the whole vaccine.csv dataset"
   ]
  },
  {
   "cell_type": "code",
   "execution_count": 47,
   "id": "613a0d3b",
   "metadata": {},
   "outputs": [
    {
     "name": "stderr",
     "output_type": "stream",
     "text": [
      "<ipython-input-47-a79456728f24>:6: UserWarning: FixedFormatter should only be used together with FixedLocator\n",
      "  pp.set_yticklabels(labels=(pp.get_yticks()*1).astype(int))\n"
     ]
    },
    {
     "data": {
      "image/png": "[encoded data removed]",
      "text/plain": [
       "<Figure size 936x504 with 1 Axes>"
      ]
     },
     "metadata": {
      "needs_background": "light"
     },
     "output_type": "display_data"
    }
   ],
   "source": [
    "#ploting the first dose graph w.r.t. dates\n",
    "a4_dims = (13, 7)\n",
    "fig, ax = pyplot.subplots(figsize=a4_dims)\n",
    "pp = sns.lineplot(data=vac_data,x='Date',y='First_Dose',ax=ax,color='Blue')\n",
    "\n",
    "pp.set_yticklabels(labels=(pp.get_yticks()*1).astype(int))\n",
    "\n",
    "fig.legend(labels=['First Dose'])\n",
    "plt.title('First Dose Vaccination summary of India',size=15)\n",
    "plt.show()"
   ]
  },
  {
   "cell_type": "code",
   "execution_count": 48,
   "id": "e1431178",
   "metadata": {},
   "outputs": [
    {
     "name": "stderr",
     "output_type": "stream",
     "text": [
      "<ipython-input-48-19960c5471ba>:6: UserWarning: FixedFormatter should only be used together with FixedLocator\n",
      "  pp.set_yticklabels(labels=(pp.get_yticks()*1).astype(int))\n"
     ]
    },
    {
     "data": {
      "image/png": "[encoded data removed]",
      "text/plain": [
       "<Figure size 936x504 with 1 Axes>"
      ]
     },
     "metadata": {
      "needs_background": "light"
     },
     "output_type": "display_data"
    }
   ],
   "source": [
    "##ploting the Second dose graph w.r.t. dates\n",
    "a4_dims = (13, 7)\n",
    "fig, ax = pyplot.subplots(figsize=a4_dims)\n",
    "pp = sns.lineplot(data=vac_data,x='Date',y='Second_Dose',ax=ax,color='Green')\n",
    "\n",
    "pp.set_yticklabels(labels=(pp.get_yticks()*1).astype(int))\n",
    "\n",
    "fig.legend(labels=['Second Dose'])\n",
    "plt.title('Second Dose Vaccination summary of India',size=15)\n",
    "plt.show()"
   ]
  },
  {
   "cell_type": "code",
   "execution_count": 49,
   "id": "dcb7f865",
   "metadata": {},
   "outputs": [
    {
     "name": "stderr",
     "output_type": "stream",
     "text": [
      "<ipython-input-49-7e747d1c5286>:6: UserWarning: FixedFormatter should only be used together with FixedLocator\n",
      "  pp.set_yticklabels(labels=(pp.get_yticks()*1).astype(int))\n"
     ]
    },
    {
     "data": {
      "image/png": "[encoded data removed]",
      "text/plain": [
       "<Figure size 936x504 with 1 Axes>"
      ]
     },
     "metadata": {
      "needs_background": "light"
     },
     "output_type": "display_data"
    }
   ],
   "source": [
    "#ploting the total dose graph w.r.t. dates\n",
    "a4_dims = (13, 7)\n",
    "fig, ax = pyplot.subplots(figsize=a4_dims)\n",
    "pp = sns.lineplot(data=vac_data,x='Date',y='Total_Dose',ax=ax,color='Red')\n",
    "\n",
    "pp.set_yticklabels(labels=(pp.get_yticks()*1).astype(int))\n",
    "\n",
    "fig.legend(labels=['Total Dose'])\n",
    "plt.title('Total Dose Vaccination summary of India',size=15)\n",
    "plt.show()"
   ]
  },
  {
   "cell_type": "markdown",
   "id": "22b8295c",
   "metadata": {},
   "source": [
    "# visualizing Maharashtra State vaccination drive"
   ]
  },
  {
   "cell_type": "code",
   "execution_count": 50,
   "id": "200300fb",
   "metadata": {},
   "outputs": [
    {
     "data": {
      "text/html": [
       "<div>\n",
       "<style scoped>\n",
       "    .dataframe tbody tr th:only-of-type {\n",
       "        vertical-align: middle;\n",
       "    }\n",
       "\n",
       "    .dataframe tbody tr th {\n",
       "        vertical-align: top;\n",
       "    }\n",
       "\n",
       "    .dataframe thead th {\n",
       "        text-align: right;\n",
       "    }\n",
       "</style>\n",
       "<table border=\"1\" class=\"dataframe\">\n",
       "  <thead>\n",
       "    <tr style=\"text-align: right;\">\n",
       "      <th></th>\n",
       "      <th>Sr_No</th>\n",
       "      <th>Date</th>\n",
       "      <th>State</th>\n",
       "      <th>First_Dose</th>\n",
       "      <th>Second_Dose</th>\n",
       "      <th>Total_Dose</th>\n",
       "    </tr>\n",
       "  </thead>\n",
       "  <tbody>\n",
       "    <tr>\n",
       "      <th>20</th>\n",
       "      <td>20</td>\n",
       "      <td>16/01/2021</td>\n",
       "      <td>Maharashtra</td>\n",
       "      <td>18328</td>\n",
       "      <td>0</td>\n",
       "      <td>18328</td>\n",
       "    </tr>\n",
       "    <tr>\n",
       "      <th>58</th>\n",
       "      <td>58</td>\n",
       "      <td>18/01/2021</td>\n",
       "      <td>Maharashtra</td>\n",
       "      <td>18582</td>\n",
       "      <td>0</td>\n",
       "      <td>18582</td>\n",
       "    </tr>\n",
       "    <tr>\n",
       "      <th>96</th>\n",
       "      <td>96</td>\n",
       "      <td>19/01/2021</td>\n",
       "      <td>Maharashtra</td>\n",
       "      <td>30247</td>\n",
       "      <td>0</td>\n",
       "      <td>30247</td>\n",
       "    </tr>\n",
       "    <tr>\n",
       "      <th>134</th>\n",
       "      <td>134</td>\n",
       "      <td>20/01/2021</td>\n",
       "      <td>Maharashtra</td>\n",
       "      <td>52055</td>\n",
       "      <td>0</td>\n",
       "      <td>52055</td>\n",
       "    </tr>\n",
       "    <tr>\n",
       "      <th>172</th>\n",
       "      <td>172</td>\n",
       "      <td>21/01/2021</td>\n",
       "      <td>Maharashtra</td>\n",
       "      <td>52393</td>\n",
       "      <td>0</td>\n",
       "      <td>52393</td>\n",
       "    </tr>\n",
       "    <tr>\n",
       "      <th>...</th>\n",
       "      <td>...</td>\n",
       "      <td>...</td>\n",
       "      <td>...</td>\n",
       "      <td>...</td>\n",
       "      <td>...</td>\n",
       "      <td>...</td>\n",
       "    </tr>\n",
       "    <tr>\n",
       "      <th>9026</th>\n",
       "      <td>9026</td>\n",
       "      <td>12/09/2021</td>\n",
       "      <td>Maharashtra</td>\n",
       "      <td>49257090</td>\n",
       "      <td>18634318</td>\n",
       "      <td>67891408</td>\n",
       "    </tr>\n",
       "    <tr>\n",
       "      <th>9064</th>\n",
       "      <td>9064</td>\n",
       "      <td>13/09/2021</td>\n",
       "      <td>Maharashtra</td>\n",
       "      <td>49580776</td>\n",
       "      <td>18790591</td>\n",
       "      <td>68371367</td>\n",
       "    </tr>\n",
       "    <tr>\n",
       "      <th>9102</th>\n",
       "      <td>9102</td>\n",
       "      <td>14/09/2021</td>\n",
       "      <td>Maharashtra</td>\n",
       "      <td>49917440</td>\n",
       "      <td>18982391</td>\n",
       "      <td>68899831</td>\n",
       "    </tr>\n",
       "    <tr>\n",
       "      <th>9140</th>\n",
       "      <td>9140</td>\n",
       "      <td>15/09/2021</td>\n",
       "      <td>Maharashtra</td>\n",
       "      <td>50629841</td>\n",
       "      <td>19349683</td>\n",
       "      <td>69979524</td>\n",
       "    </tr>\n",
       "    <tr>\n",
       "      <th>9178</th>\n",
       "      <td>9178</td>\n",
       "      <td>16/09/2021</td>\n",
       "      <td>Maharashtra</td>\n",
       "      <td>51030168</td>\n",
       "      <td>19622589</td>\n",
       "      <td>70652757</td>\n",
       "    </tr>\n",
       "  </tbody>\n",
       "</table>\n",
       "<p>242 rows × 6 columns</p>\n",
       "</div>"
      ],
      "text/plain": [
       "      Sr_No        Date        State  First_Dose  Second_Dose  Total_Dose\n",
       "20       20  16/01/2021  Maharashtra       18328            0       18328\n",
       "58       58  18/01/2021  Maharashtra       18582            0       18582\n",
       "96       96  19/01/2021  Maharashtra       30247            0       30247\n",
       "134     134  20/01/2021  Maharashtra       52055            0       52055\n",
       "172     172  21/01/2021  Maharashtra       52393            0       52393\n",
       "...     ...         ...          ...         ...          ...         ...\n",
       "9026   9026  12/09/2021  Maharashtra    49257090     18634318    67891408\n",
       "9064   9064  13/09/2021  Maharashtra    49580776     18790591    68371367\n",
       "9102   9102  14/09/2021  Maharashtra    49917440     18982391    68899831\n",
       "9140   9140  15/09/2021  Maharashtra    50629841     19349683    69979524\n",
       "9178   9178  16/09/2021  Maharashtra    51030168     19622589    70652757\n",
       "\n",
       "[242 rows x 6 columns]"
      ]
     },
     "execution_count": 50,
     "metadata": {},
     "output_type": "execute_result"
    }
   ],
   "source": [
    "#gathering the maharashtra state data\n",
    "Maharashtra = vac_data[vac_data.State ==  'Maharashtra']\n",
    "Maharashtra"
   ]
  },
  {
   "cell_type": "code",
   "execution_count": 59,
   "id": "9ec8492c",
   "metadata": {},
   "outputs": [],
   "source": [
    "#setting the intervals of date\n",
    "req = Maharashtra[Maharashtra['Date'].isin(['16/01/2021','16/02/2021','16/03/2021','16/04/2021','16/05/2021','16/06/2021','16/07/2021','16/08/2021','16/09/2021'])]"
   ]
  },
  {
   "cell_type": "code",
   "execution_count": 60,
   "id": "8f9aeb62",
   "metadata": {},
   "outputs": [
    {
     "data": {
      "text/html": [
       "<div>\n",
       "<style scoped>\n",
       "    .dataframe tbody tr th:only-of-type {\n",
       "        vertical-align: middle;\n",
       "    }\n",
       "\n",
       "    .dataframe tbody tr th {\n",
       "        vertical-align: top;\n",
       "    }\n",
       "\n",
       "    .dataframe thead th {\n",
       "        text-align: right;\n",
       "    }\n",
       "</style>\n",
       "<table border=\"1\" class=\"dataframe\">\n",
       "  <thead>\n",
       "    <tr style=\"text-align: right;\">\n",
       "      <th></th>\n",
       "      <th>Sr_No</th>\n",
       "      <th>Date</th>\n",
       "      <th>State</th>\n",
       "      <th>First_Dose</th>\n",
       "      <th>Second_Dose</th>\n",
       "      <th>Total_Dose</th>\n",
       "    </tr>\n",
       "  </thead>\n",
       "  <tbody>\n",
       "    <tr>\n",
       "      <th>20</th>\n",
       "      <td>20</td>\n",
       "      <td>16/01/2021</td>\n",
       "      <td>Maharashtra</td>\n",
       "      <td>18328</td>\n",
       "      <td>0</td>\n",
       "      <td>18328</td>\n",
       "    </tr>\n",
       "    <tr>\n",
       "      <th>1160</th>\n",
       "      <td>1160</td>\n",
       "      <td>16/02/2021</td>\n",
       "      <td>Maharashtra</td>\n",
       "      <td>731537</td>\n",
       "      <td>9294</td>\n",
       "      <td>740831</td>\n",
       "    </tr>\n",
       "    <tr>\n",
       "      <th>2224</th>\n",
       "      <td>2224</td>\n",
       "      <td>16/03/2021</td>\n",
       "      <td>Maharashtra</td>\n",
       "      <td>2862885</td>\n",
       "      <td>466502</td>\n",
       "      <td>3329387</td>\n",
       "    </tr>\n",
       "    <tr>\n",
       "      <th>3402</th>\n",
       "      <td>3402</td>\n",
       "      <td>16/04/2021</td>\n",
       "      <td>Maharashtra</td>\n",
       "      <td>10659857</td>\n",
       "      <td>1227002</td>\n",
       "      <td>11886859</td>\n",
       "    </tr>\n",
       "    <tr>\n",
       "      <th>4542</th>\n",
       "      <td>4542</td>\n",
       "      <td>16/05/2021</td>\n",
       "      <td>Maharashtra</td>\n",
       "      <td>15512475</td>\n",
       "      <td>4220839</td>\n",
       "      <td>19733314</td>\n",
       "    </tr>\n",
       "    <tr>\n",
       "      <th>5720</th>\n",
       "      <td>5720</td>\n",
       "      <td>16/06/2021</td>\n",
       "      <td>Maharashtra</td>\n",
       "      <td>21391791</td>\n",
       "      <td>5328026</td>\n",
       "      <td>26719817</td>\n",
       "    </tr>\n",
       "    <tr>\n",
       "      <th>6860</th>\n",
       "      <td>6860</td>\n",
       "      <td>16/07/2021</td>\n",
       "      <td>Maharashtra</td>\n",
       "      <td>30053656</td>\n",
       "      <td>8841609</td>\n",
       "      <td>38895265</td>\n",
       "    </tr>\n",
       "    <tr>\n",
       "      <th>8038</th>\n",
       "      <td>8038</td>\n",
       "      <td>16/08/2021</td>\n",
       "      <td>Maharashtra</td>\n",
       "      <td>36979429</td>\n",
       "      <td>13076064</td>\n",
       "      <td>50055493</td>\n",
       "    </tr>\n",
       "    <tr>\n",
       "      <th>9178</th>\n",
       "      <td>9178</td>\n",
       "      <td>16/09/2021</td>\n",
       "      <td>Maharashtra</td>\n",
       "      <td>51030168</td>\n",
       "      <td>19622589</td>\n",
       "      <td>70652757</td>\n",
       "    </tr>\n",
       "  </tbody>\n",
       "</table>\n",
       "</div>"
      ],
      "text/plain": [
       "      Sr_No        Date        State  First_Dose  Second_Dose  Total_Dose\n",
       "20       20  16/01/2021  Maharashtra       18328            0       18328\n",
       "1160   1160  16/02/2021  Maharashtra      731537         9294      740831\n",
       "2224   2224  16/03/2021  Maharashtra     2862885       466502     3329387\n",
       "3402   3402  16/04/2021  Maharashtra    10659857      1227002    11886859\n",
       "4542   4542  16/05/2021  Maharashtra    15512475      4220839    19733314\n",
       "5720   5720  16/06/2021  Maharashtra    21391791      5328026    26719817\n",
       "6860   6860  16/07/2021  Maharashtra    30053656      8841609    38895265\n",
       "8038   8038  16/08/2021  Maharashtra    36979429     13076064    50055493\n",
       "9178   9178  16/09/2021  Maharashtra    51030168     19622589    70652757"
      ]
     },
     "execution_count": 60,
     "metadata": {},
     "output_type": "execute_result"
    }
   ],
   "source": [
    "req"
   ]
  },
  {
   "cell_type": "code",
   "execution_count": 61,
   "id": "8df891b1",
   "metadata": {
    "scrolled": false
   },
   "outputs": [
    {
     "name": "stderr",
     "output_type": "stream",
     "text": [
      "<ipython-input-61-2bf130e8a5ad>:8: UserWarning: FixedFormatter should only be used together with FixedLocator\n",
      "  pp.set_yticklabels(labels=(pp.get_yticks()*1).astype(int))\n"
     ]
    },
    {
     "data": {
      "image/png": "[encoded data removed]",
      "text/plain": [
       "<Figure size 936x504 with 1 Axes>"
      ]
     },
     "metadata": {
      "needs_background": "light"
     },
     "output_type": "display_data"
    }
   ],
   "source": [
    "#ploting the graph of maharashtra vaccination drive, consist of first dose, second dose and total dose\n",
    "a4_dims = (13, 7)\n",
    "fig, ax = pyplot.subplots(figsize=a4_dims)\n",
    "pp = sns.lineplot(data=req,x='Date',y='First_Dose',ax=ax,color='Blue')\n",
    "pp = sns.lineplot(data=req,x='Date',y='Second_Dose',ax=ax,color='Green')\n",
    "pp = sns.lineplot(data=req,x='Date',y='Total_Dose',ax=ax,color='Red')\n",
    "\n",
    "pp.set_yticklabels(labels=(pp.get_yticks()*1).astype(int))\n",
    "\n",
    "fig.legend(labels=['First Dose','Second Dose','Total Dose'])\n",
    "plt.title('Vaccination summary of Maharashtra',size=15)\n",
    "plt.show()"
   ]
  },
  {
   "cell_type": "code",
   "execution_count": null,
   "id": "990a1b02",
   "metadata": {},
   "outputs": [],
   "source": []
  }
 ],
 "metadata": {
  "kernelspec": {
   "display_name": "Python 3",
   "language": "python",
   "name": "python3"
  },
  "language_info": {
   "codemirror_mode": {
    "name": "ipython",
    "version": 3
   },
   "file_extension": ".py",
   "mimetype": "text/x-python",
   "name": "python",
   "nbconvert_exporter": "python",
   "pygments_lexer": "ipython3",
   "version": "3.8.8"
  }
 },
 "nbformat": 4,
 "nbformat_minor": 5
}
